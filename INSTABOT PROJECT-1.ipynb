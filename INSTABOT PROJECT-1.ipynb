{
 "cells": [
  {
   "cell_type": "markdown",
   "metadata": {},
   "source": [
    "# INSTABOT 1\n",
    "\n",
    "### Problem Statement: Your friend has opened a new Food Blogging handle on Instagram and wants to get famous. He wants to follow a lot of people so that he can get noticed quickly but it is a tedious task so he asks you to help him. "
   ]
  },
  {
   "cell_type": "markdown",
   "metadata": {},
   "source": [
    "### Required Libraries:- "
   ]
  },
  {
   "cell_type": "code",
   "execution_count": 4,
   "metadata": {},
   "outputs": [],
   "source": [
    "## To Perform Automation\n",
    "from selenium import webdriver\n",
    "from bs4 import BeautifulSoup\n",
    "from selenium.webdriver.support.ui import WebDriverWait\n",
    "from selenium.webdriver.support import expected_conditions as EC\n",
    "from selenium.webdriver.support.select import Select\n",
    "from selenium.webdriver.common.by import By\n",
    "from selenium.webdriver.common.keys import Keys\n",
    "import time\n",
    "\n",
    "# For Data Manipulation\n",
    "import pandas as pd\n",
    "import numpy as np\n",
    "\n",
    "## To Analyze and Visualize the Data\n",
    "import matplotlib.pyplot as plt"
   ]
  },
  {
   "cell_type": "markdown",
   "metadata": {},
   "source": [
    "### Execution:-"
   ]
  },
  {
   "cell_type": "code",
   "execution_count": 16,
   "metadata": {},
   "outputs": [],
   "source": [
    "## Login to your Instagram Handle\n",
    "\n",
    "driver = webdriver.Chrome(executable_path = 'C:/Users/Sukriti Macker/chromedriver_win32/chromedriver')\n",
    "driver.get('https://www.instagram.com')\n",
    "\n",
    "time.sleep(7)\n",
    "\n",
    "\n",
    "'''\n",
    "ANOTHER WAY\n",
    "# try:\n",
    "#     wait=WebDriverWait(driver,10).until(EC.presence_of_element_located((By.LINK_TEXT,'Log in')))\n",
    "# finally:\n",
    "#     driver.quit()\n",
    "# wait_to_login.click()\n",
    "'''\n",
    "\n",
    "##Submit with sample username and password\n",
    "\n",
    "username=driver.find_element_by_name('username')\n",
    "username.click()\n",
    "username.send_keys('SAMPLE USERNAME')\n",
    "\n",
    "password=driver.find_element_by_name('password')\n",
    "password.click()\n",
    "password.send_keys('SAMPLE PASSWORD')\n",
    "\n",
    "time.sleep(2)\n",
    "\n",
    "password.submit()"
   ]
  },
  {
   "cell_type": "code",
   "execution_count": 17,
   "metadata": {},
   "outputs": [],
   "source": [
    "## Removing the pop up that asks to turn on notification\n",
    "driver.find_element_by_class_name('HoLwm ').click()"
   ]
  },
  {
   "cell_type": "code",
   "execution_count": 18,
   "metadata": {},
   "outputs": [],
   "source": [
    "## Type for “food” in search bar and print all the names of the Instagram Handles that are displayed in list after typing “food”\n",
    "## Note: Make sure to avoid printing hashtags\n",
    "search_box=driver.find_element_by_class_name('x3qfX')\n",
    "search_box.clear()\n",
    "search_box.send_keys('food')"
   ]
  },
  {
   "cell_type": "code",
   "execution_count": 19,
   "metadata": {},
   "outputs": [
    {
     "name": "stdout",
     "output_type": "stream",
     "text": [
      "thefoodblogger02\n",
      "delhifoodwalks\n",
      "yourfoodlab\n",
      "foodloviee\n",
      "foodiewe\n",
      "foodienator81\n",
      "food\n",
      "foodys\n",
      "foodiepandas_\n",
      "street_food_chandigarh\n",
      "foodvideo\n",
      "foodie_incarnate\n",
      "foodnetwork\n",
      "delhifoodguide\n",
      "foodinsider\n",
      "foodtalkindia\n",
      "food.gazers\n",
      "agrimavermaaa\n",
      "dilsefoodie\n",
      "fun.foodie.tastic\n",
      "foodrush.recipe\n",
      "food_food_242002\n",
      "tasteofgirl\n",
      "food_lunatic\n",
      "swadisht.food\n",
      "foodieatsixty\n",
      "8_food\n",
      "food.gone.right\n",
      "foodlty\n",
      "weightloss.diet.hindi\n",
      "thisisdelhi\n",
      "foodgod\n",
      "mealplans\n",
      "foodyeating\n",
      "all._about._food\n",
      "foodshowbyj\n",
      "foodmaniacindia\n",
      "foodigramdilli\n",
      "aurangabadfoodexplorer\n",
      "greenfoodjournal\n",
      "foodphotography.inc\n",
      "healthfood\n",
      "mumbaifoodie\n",
      "bond.over.food\n",
      "foodandcompany19\n",
      "foodchrome\n"
     ]
    }
   ],
   "source": [
    "## Extracting the Insta Handles\n",
    "\n",
    "drop_down=driver.find_elements_by_xpath('//div[@class=\"fuqBx\"]/a')\n",
    "for i in drop_down:\n",
    "    if 'tags' in i.get_attribute('href') or 'location' in i.get_attribute('href'):\n",
    "        continue\n",
    "    else:\n",
    "        print(i.get_attribute('href').split('/')[3])"
   ]
  },
  {
   "cell_type": "code",
   "execution_count": 20,
   "metadata": {},
   "outputs": [],
   "source": [
    "## Specific Searching and Opening a profile \n",
    "## Open profile of “So Delhi”\n",
    "\n",
    "search_box.clear()\n",
    "search_box.send_keys(\"So Delhi\")\n",
    "\n",
    "time.sleep(2)\n",
    "\n",
    "for i in range(2):\n",
    "    search_box.send_keys(Keys.ENTER)"
   ]
  },
  {
   "cell_type": "code",
   "execution_count": 21,
   "metadata": {},
   "outputs": [
    {
     "name": "stdout",
     "output_type": "stream",
     "text": [
      "Now Following 'So Delhi'\n"
     ]
    }
   ],
   "source": [
    "## Printing message if already following 'So Delhi'\n",
    "## If not following printing message and starting to follow 'So Delhi'\n",
    "\n",
    "follow_button=driver.find_element_by_class_name('yZn4P   ')\n",
    "if follow_button.text=='Following':\n",
    "    print('Already Followed')\n",
    "\n",
    "else:  \n",
    "    follow_button.click()\n",
    "    print(\"Now Following 'So Delhi'\")"
   ]
  },
  {
   "cell_type": "code",
   "execution_count": 22,
   "metadata": {},
   "outputs": [
    {
     "name": "stdout",
     "output_type": "stream",
     "text": [
      "Unfollowed \"So Delhi\"\n"
     ]
    }
   ],
   "source": [
    "## To unfollow 'So Delhi'\n",
    "\n",
    "if follow_button.text=='Follow':\n",
    "    print('Already Unfollwed')\n",
    "    \n",
    "else:\n",
    "    yes_unfollow=driver.find_element_by_class_name('yZn4P   ')\n",
    "    yes_unfollow.click()\n",
    "\n",
    "    time.sleep(2)\n",
    "\n",
    "    agreed_button=driver.find_element_by_class_name('-Cab_   ')\n",
    "    agreed_button.click()\n",
    "    print('Unfollowed \"So Delhi\"')"
   ]
  },
  {
   "cell_type": "code",
   "execution_count": 23,
   "metadata": {},
   "outputs": [],
   "source": [
    "## Opening 'dilsefoodie'\n",
    "from selenium.webdriver.common.keys import Keys\n",
    "search_box=driver.find_element_by_class_name('x3qfX')\n",
    "search_box.clear()\n",
    "search_box.send_keys('dilsefoodie')\n",
    "\n",
    "time.sleep(2)\n",
    "\n",
    "for i in range(2):\n",
    "    search_box.send_keys(Keys.ENTER)"
   ]
  },
  {
   "cell_type": "code",
   "execution_count": 24,
   "metadata": {},
   "outputs": [
    {
     "name": "stdout",
     "output_type": "stream",
     "text": [
      "['https://www.instagram.com/p/CJvb00wHZDa/', 'https://www.instagram.com/p/CJsWARKnUie/', 'https://www.instagram.com/p/CJnFdF-HYtD/', 'https://www.instagram.com/p/CJiPRzBnZtY/', 'https://www.instagram.com/p/CJd5J2gH8RK/', 'https://www.instagram.com/p/CJdE3YOHHbO/', 'https://www.instagram.com/p/CJadoY9neTa/', 'https://www.instagram.com/p/CJYqnhqnI2w/', 'https://www.instagram.com/p/CJValU1HO1f/', 'https://www.instagram.com/p/CJTYuGFndHq/', 'https://www.instagram.com/p/CJTI4JpHXBx/', 'https://www.instagram.com/p/CJQ-Z6rHWli/', 'https://www.instagram.com/p/CJQnaR1Hzik/', 'https://www.instagram.com/p/CJNQwffH92P/', 'https://www.instagram.com/p/CJL1sJNHY1U/', 'https://www.instagram.com/p/CJLVvB2n6qc/', 'https://www.instagram.com/p/CJJDScCHz_U/', 'https://www.instagram.com/p/CJG7TqXHjTi/', 'https://www.instagram.com/p/CJGv-EzHhd8/', 'https://www.instagram.com/p/CJGgjgEnRTp/', 'https://www.instagram.com/p/CJD8BV4HNoD/', 'https://www.instagram.com/p/CJDRUe5HcQb/', 'https://www.instagram.com/p/CJDFQpOHsxT/', 'https://www.instagram.com/p/CJBh-W0HSTQ/', 'https://www.instagram.com/p/CJBQPZYnUTI/', 'https://www.instagram.com/p/CI-hvNAnBVk/', 'https://www.instagram.com/p/CI-MtMxHDyS/', 'https://www.instagram.com/p/CI8Oi7Tnsxw/', 'https://www.instagram.com/p/CI7a-JPHXkQ/', 'https://www.instagram.com/p/CI5tevmH3QR/']\n"
     ]
    }
   ],
   "source": [
    "## For top 30 posts, extracting hyperling for each post\n",
    "\n",
    "driver.execute_script('window.scrollBy(0,7000);')\n",
    "time.sleep(3)\n",
    "like_button=driver.find_elements_by_xpath('//div[contains(@class,\"weEfm\")]/div/a')\n",
    "\n",
    "urls_for_like_unlike=[]\n",
    "\n",
    "\n",
    "\n",
    "for i in like_button[:30]:\n",
    "    ##print(i.get_attribute('href'))\n",
    "    urls_for_like_unlike.append(i.get_attribute('href'))\n",
    "    \n",
    "print(urls_for_like_unlike)"
   ]
  },
  {
   "cell_type": "code",
   "execution_count": 32,
   "metadata": {},
   "outputs": [],
   "source": [
    "## Liking the top 30 posts\n",
    "\n",
    "for i in urls_for_like_unlike:\n",
    "    driver.get(i)\n",
    "    like_unlike_button=driver.find_element_by_class_name('fr66n')\n",
    "    if like_unlike_button.find_element_by_class_name('wpO6b').get_attribute(\"aria-label\")=='Unlike':\n",
    "        print('Already Liked')\n",
    "    else:\n",
    "        like_unlike_button.click()\n",
    "\n"
   ]
  },
  {
   "cell_type": "code",
   "execution_count": 34,
   "metadata": {},
   "outputs": [],
   "source": [
    "## Un-Liking the top 30 posts\n",
    "\n",
    "for j in urls_for_like_unlike:\n",
    "    driver.get(j)\n",
    "    like_unlike_button=driver.find_element_by_class_name('fr66n')\n",
    "    if like_unlike_button.find_element_by_class_name('wpO6b').get_attribute(\"aria-label\")=='Like':\n",
    "        print('Already Un-Liked')\n",
    "    else:\n",
    "        like_unlike_button.click()\n",
    "           "
   ]
  },
  {
   "cell_type": "code",
   "execution_count": 43,
   "metadata": {},
   "outputs": [
    {
     "name": "stdout",
     "output_type": "stream",
     "text": [
      "[]\n"
     ]
    }
   ],
   "source": [
    "## Extract the List of the first 500 followers of ‘foodtalkindia’\n",
    "\n",
    "foodtalk_usernames=[]\n",
    "\n",
    "flag = False\n",
    "\n",
    "search_box=driver.find_element_by_class_name('x3qfX')\n",
    "search_box.send_keys('foodtalkindia')\n",
    "time.sleep(2)\n",
    "\n",
    "for i in range(2):\n",
    "    search_box.send_keys(Keys.ENTER)\n",
    "\n",
    "time.sleep(6)\n",
    "\n",
    "follow_b=driver.find_element_by_partial_link_text('followers').click()\n",
    "\n",
    "time.sleep(2)\n",
    "while True:\n",
    "\n",
    "    p = driver.find_element_by_class_name('isgrP')\n",
    "\n",
    "    p.click()\n",
    "\n",
    "    driver.find_element_by_tag_name('body').send_keys(Keys.END)\n",
    "\n",
    "    if flag == False:\n",
    "\n",
    "        for i in range(6):\n",
    "\n",
    "            driver.find_element_by_tag_name('body').send_keys(Keys.PAGE_UP)\n",
    "\n",
    "            time.sleep(1)\n",
    "\n",
    "        flag = True\n",
    "\n",
    "    time.sleep(1)\n",
    "\n",
    "    p = driver.find_element_by_class_name('wFPL8')\n",
    "\n",
    "    p.click()\n",
    "\n",
    "    follower_list = driver.find_elements_by_xpath('//div[@class = \"isgrP\"]/ul/div/li')\n",
    "    follower_name=driver.find_elements_by_xpath('//div[@class=\"d7ByH\"]/a')\n",
    "    \n",
    "    for i in follower_name[:500]:\n",
    "        foodtalk_usernames.append(i.get_attribute('title'))\n",
    "    \n",
    "        \n",
    "    if len(follower_list) >= 500:\n",
    "\n",
    "        break"
   ]
  },
  {
   "cell_type": "code",
   "execution_count": 42,
   "metadata": {},
   "outputs": [
    {
     "name": "stdout",
     "output_type": "stream",
     "text": [
      "0\n",
      "0\n"
     ]
    }
   ],
   "source": [
    "## For printing the 500 usernames following foodtalkindia\n",
    "\n",
    "print(len(foodtalk_usernames)) # Printing length of the list\n",
    "\n",
    "for i in foodtalk_usernames:\n",
    "    print(i)"
   ]
  },
  {
   "cell_type": "code",
   "execution_count": 45,
   "metadata": {},
   "outputs": [],
   "source": [
    "## Extract the usernames List of the first 500 followers of ‘sodelhi’\n",
    "\n",
    "so_usernames=[]\n",
    "\n",
    "flag = False\n",
    "\n",
    "search_box=driver.find_element_by_class_name('x3qfX')\n",
    "search_box.send_keys('sodelhi')\n",
    "time.sleep(2)\n",
    "\n",
    "for i in range(2):\n",
    "    search_box.send_keys(Keys.ENTER)\n",
    "\n",
    "time.sleep(6)\n",
    "\n",
    "follow_b=driver.find_element_by_partial_link_text('followers').click()\n",
    "\n",
    "time.sleep(2)\n",
    "while True:\n",
    "\n",
    "    p = driver.find_element_by_class_name('isgrP')\n",
    "\n",
    "    p.click()\n",
    "\n",
    "    driver.find_element_by_tag_name('body').send_keys(Keys.END)\n",
    "\n",
    "    if flag == False:\n",
    "\n",
    "        for i in range(6):\n",
    "\n",
    "            driver.find_element_by_tag_name('body').send_keys(Keys.PAGE_UP)\n",
    "\n",
    "            time.sleep(1)\n",
    "\n",
    "        flag = True\n",
    "\n",
    "    time.sleep(1)\n",
    "\n",
    "    p = driver.find_element_by_class_name('isgrP')\n",
    "\n",
    "    p.click()\n",
    "\n",
    "    follower_list = driver.find_elements_by_xpath('//div[@class = \"isgrP\"]/ul/div/li')\n",
    "    follower_name=driver.find_elements_by_xpath('//div[@class=\"d7ByH\"]/a')\n",
    "    \n",
    "    for i in follower_name[:500]:\n",
    "        so_usernames.append(i.get_attribute('title'))\n",
    "    \n",
    "        \n",
    "    if len(follower_list) >= 500:\n",
    "\n",
    "        break\n",
    "        \n"
   ]
  },
  {
   "cell_type": "code",
   "execution_count": 46,
   "metadata": {},
   "outputs": [
    {
     "name": "stdout",
     "output_type": "stream",
     "text": [
      "0\n"
     ]
    }
   ],
   "source": [
    "## for printing the 500 usernames following sodelhi\n",
    "\n",
    "print(len(so_usernames)) # Printing length of the list\n",
    "\n",
    "for i in so_usernames:\n",
    "    print(i)"
   ]
  },
  {
   "cell_type": "code",
   "execution_count": 47,
   "metadata": {
    "scrolled": true
   },
   "outputs": [
    {
     "ename": "KeyboardInterrupt",
     "evalue": "",
     "output_type": "error",
     "traceback": [
      "\u001b[1;31m---------------------------------------------------------------------------\u001b[0m",
      "\u001b[1;31mKeyboardInterrupt\u001b[0m                         Traceback (most recent call last)",
      "\u001b[1;32m<ipython-input-47-fdbed9771ca3>\u001b[0m in \u001b[0;36m<module>\u001b[1;34m\u001b[0m\n\u001b[0;32m     27\u001b[0m             \u001b[0mdriver\u001b[0m\u001b[1;33m.\u001b[0m\u001b[0mfind_element_by_tag_name\u001b[0m\u001b[1;33m(\u001b[0m\u001b[1;34m'body'\u001b[0m\u001b[1;33m)\u001b[0m\u001b[1;33m.\u001b[0m\u001b[0msend_keys\u001b[0m\u001b[1;33m(\u001b[0m\u001b[0mKeys\u001b[0m\u001b[1;33m.\u001b[0m\u001b[0mPAGE_UP\u001b[0m\u001b[1;33m)\u001b[0m\u001b[1;33m\u001b[0m\u001b[1;33m\u001b[0m\u001b[0m\n\u001b[0;32m     28\u001b[0m \u001b[1;33m\u001b[0m\u001b[0m\n\u001b[1;32m---> 29\u001b[1;33m             \u001b[0mtime\u001b[0m\u001b[1;33m.\u001b[0m\u001b[0msleep\u001b[0m\u001b[1;33m(\u001b[0m\u001b[1;36m1\u001b[0m\u001b[1;33m)\u001b[0m\u001b[1;33m\u001b[0m\u001b[1;33m\u001b[0m\u001b[0m\n\u001b[0m\u001b[0;32m     30\u001b[0m \u001b[1;33m\u001b[0m\u001b[0m\n\u001b[0;32m     31\u001b[0m         \u001b[0mflag\u001b[0m \u001b[1;33m=\u001b[0m \u001b[1;32mTrue\u001b[0m\u001b[1;33m\u001b[0m\u001b[1;33m\u001b[0m\u001b[0m\n",
      "\u001b[1;31mKeyboardInterrupt\u001b[0m: "
     ]
    }
   ],
   "source": [
    "## Print all the followers of “foodtalkindia” that you are following but those who don’t follow you\n",
    "\n",
    "mutual=[]\n",
    "\n",
    "flag = False\n",
    "\n",
    "search_box=driver.find_element_by_class_name('x3qfX')\n",
    "search_box.send_keys('foodtalkindia')\n",
    "time.sleep(2)\n",
    "\n",
    "for i in range(2):\n",
    "    search_box.send_keys(Keys.ENTER)\n",
    "\n",
    "time.sleep(6)\n",
    "\n",
    "follow_b=driver.find_element_by_partial_link_text('followers').click()\n",
    "\n",
    "time.sleep(2)\n",
    "while True:\n",
    "\n",
    "    p = driver.find_element_by_class_name('isgrP')\n",
    "\n",
    "    p.click()\n",
    "\n",
    "    driver.find_element_by_tag_name('body').send_keys(Keys.END)\n",
    "\n",
    "    if flag == False:\n",
    "\n",
    "        for i in range(6):\n",
    "\n",
    "            driver.find_element_by_tag_name('body').send_keys(Keys.PAGE_UP)\n",
    "\n",
    "            time.sleep(1)\n",
    "\n",
    "        flag = True\n",
    "\n",
    "    time.sleep(1)\n",
    "\n",
    "    p = driver.find_element_by_class_name('isgrP')\n",
    "\n",
    "    p.click()\n",
    "\n",
    "    follower_list = driver.find_elements_by_xpath('//div[@class = \"isgrP\"]/ul/div/li')\n",
    "    follower_name=driver.find_elements_by_xpath('//div[@class=\"d7ByH\"]/a')\n",
    "    \n",
    "    for i in follower_name[:500]:\n",
    "        mutual.append(i.get_attribute('title'))\n",
    "    \n",
    "        \n",
    "    if len(follower_list) >= 500:\n",
    "\n",
    "        break\n",
    "        \n"
   ]
  },
  {
   "cell_type": "code",
   "execution_count": 15,
   "metadata": {},
   "outputs": [],
   "source": [
    "'''\n",
    "Check the story of ‘coding.ninjas’. Consider the following Scenarios and print error messages accordingly -\n",
    "If You have already seen the story.\n",
    "Or The user has no story.\n",
    "Or View the story if not yet seen.\n",
    "'''\n",
    "flag=False"
   ]
  },
  {
   "cell_type": "code",
   "execution_count": 20,
   "metadata": {},
   "outputs": [
    {
     "name": "stdout",
     "output_type": "stream",
     "text": [
      "Story is already viewed\n"
     ]
    }
   ],
   "source": [
    "from selenium.webdriver.common.keys import Keys\n",
    "\n",
    "search_box=driver.find_element_by_class_name('x3qfX')\n",
    "search_box.send_keys('coding.ninjas')\n",
    "\n",
    "time.sleep(2)\n",
    "\n",
    "for i in range(2):\n",
    "    search_box.send_keys(Keys.ENTER)\n",
    "    \n",
    "if driver.find_element_by_class_name('h5uC0'):\n",
    "    if flag==False:\n",
    "        print('The story is not yet viewed')\n",
    "        time.sleep(2)\n",
    "        driver.find_element_by_class_name('h5uC0').click()\n",
    "        flag=True\n",
    "    else:\n",
    "        print('Story is already viewed')\n",
    "\n",
    "else:\n",
    "    print('user has no story')"
   ]
  }
 ],
 "metadata": {
  "kernelspec": {
   "display_name": "Python 3",
   "language": "python",
   "name": "python3"
  },
  "language_info": {
   "codemirror_mode": {
    "name": "ipython",
    "version": 3
   },
   "file_extension": ".py",
   "mimetype": "text/x-python",
   "name": "python",
   "nbconvert_exporter": "python",
   "pygments_lexer": "ipython3",
   "version": "3.7.6"
  }
 },
 "nbformat": 4,
 "nbformat_minor": 2
}
